{
  "nbformat": 4,
  "nbformat_minor": 0,
  "metadata": {
    "colab": {
      "name": "behavioural_cloning.ipynb",
      "provenance": []
    },
    "kernelspec": {
      "name": "python3",
      "display_name": "Python 3"
    },
    "language_info": {
      "name": "python"
    }
  },
  "cells": [
    {
      "cell_type": "code",
      "metadata": {
        "colab": {
          "base_uri": "https://localhost:8080/"
        },
        "id": "oXLRpL1ALYZm",
        "outputId": "836188e3-c7e4-491f-f8f5-33efa41c45ac"
      },
      "source": [
        "!git clone https://github.com/hpt1988/Applied-Deep-Learning_The-Complete-Self-Driving-Car-Course"
      ],
      "execution_count": 1,
      "outputs": [
        {
          "output_type": "stream",
          "text": [
            "Cloning into 'Applied-Deep-Learning_The-Complete-Self-Driving-Car-Course'...\n",
            "remote: Enumerating objects: 22214, done.\u001b[K\n",
            "remote: Counting objects: 100% (22214/22214), done.\u001b[K\n",
            "remote: Compressing objects: 100% (22126/22126), done.\u001b[K\n",
            "remote: Total 22214 (delta 133), reused 22142 (delta 75), pack-reused 0\u001b[K\n",
            "Receiving objects: 100% (22214/22214), 317.95 MiB | 33.42 MiB/s, done.\n",
            "Resolving deltas: 100% (133/133), done.\n",
            "Checking out files: 100% (21952/21952), done.\n"
          ],
          "name": "stdout"
        }
      ]
    },
    {
      "cell_type": "code",
      "metadata": {
        "colab": {
          "base_uri": "https://localhost:8080/"
        },
        "id": "0yZJSvLlLbvU",
        "outputId": "c93d5d9f-03b2-4c8b-e27b-42b0c1c36b22"
      },
      "source": [
        "!ls Applied-Deep-Learning_The-Complete-Self-Driving-Car-Course/behavioural_cloning/Data"
      ],
      "execution_count": 4,
      "outputs": [
        {
          "output_type": "stream",
          "text": [
            "driving_log.csv  IMG\n"
          ],
          "name": "stdout"
        }
      ]
    },
    {
      "cell_type": "markdown",
      "metadata": {
        "id": "NRJCEQo3Lt09"
      },
      "source": [
        "# Preprocessing"
      ]
    },
    {
      "cell_type": "code",
      "metadata": {
        "id": "x-gFVoOnLxql"
      },
      "source": [
        "import os\n",
        "import numpy as np\n",
        "import matplotlib.pyplot as plt\n",
        "import keras\n",
        "from keras.models import Sequential\n",
        "from keras.optimizers import Adam\n",
        "from keras.layers import Conv2D, MaxPooling2D, Dropout, Flatten, Dense\n",
        "import cv2\n",
        "import pandas as pd\n",
        "import ntpath\n",
        "import random"
      ],
      "execution_count": 11,
      "outputs": []
    },
    {
      "cell_type": "code",
      "metadata": {
        "colab": {
          "base_uri": "https://localhost:8080/",
          "height": 323
        },
        "id": "4fd8KNvRMJX0",
        "outputId": "f98c25aa-ad25-4691-ad98-3cc60d7025d6"
      },
      "source": [
        "datadir = 'Applied-Deep-Learning_The-Complete-Self-Driving-Car-Course/behavioural_cloning/Data'\n",
        "columns = ['center', 'left', 'right', 'steering', 'throttle', 'reverse', 'speed']\n",
        "data = pd.read_csv(os.path.join(datadir, 'driving_log.csv'), names = columns)\n",
        "pd.set_option('display.max_colwidth', -1)\n",
        "data.head()"
      ],
      "execution_count": 9,
      "outputs": [
        {
          "output_type": "stream",
          "text": [
            "/usr/local/lib/python3.7/dist-packages/ipykernel_launcher.py:4: FutureWarning: Passing a negative integer is deprecated in version 1.0 and will not be supported in future version. Instead, use None to not limit the column width.\n",
            "  after removing the cwd from sys.path.\n"
          ],
          "name": "stderr"
        },
        {
          "output_type": "execute_result",
          "data": {
            "text/html": [
              "<div>\n",
              "<style scoped>\n",
              "    .dataframe tbody tr th:only-of-type {\n",
              "        vertical-align: middle;\n",
              "    }\n",
              "\n",
              "    .dataframe tbody tr th {\n",
              "        vertical-align: top;\n",
              "    }\n",
              "\n",
              "    .dataframe thead th {\n",
              "        text-align: right;\n",
              "    }\n",
              "</style>\n",
              "<table border=\"1\" class=\"dataframe\">\n",
              "  <thead>\n",
              "    <tr style=\"text-align: right;\">\n",
              "      <th></th>\n",
              "      <th>center</th>\n",
              "      <th>left</th>\n",
              "      <th>right</th>\n",
              "      <th>steering</th>\n",
              "      <th>throttle</th>\n",
              "      <th>reverse</th>\n",
              "      <th>speed</th>\n",
              "    </tr>\n",
              "  </thead>\n",
              "  <tbody>\n",
              "    <tr>\n",
              "      <th>0</th>\n",
              "      <td>C:\\Users\\OPU6FE\\Documents\\KhodroKhodran\\simulator-windows-64\\Data\\IMG\\center_2021_06_29_11_07_08_154.jpg</td>\n",
              "      <td>C:\\Users\\OPU6FE\\Documents\\KhodroKhodran\\simulator-windows-64\\Data\\IMG\\left_2021_06_29_11_07_08_154.jpg</td>\n",
              "      <td>C:\\Users\\OPU6FE\\Documents\\KhodroKhodran\\simulator-windows-64\\Data\\IMG\\right_2021_06_29_11_07_08_154.jpg</td>\n",
              "      <td>0.0</td>\n",
              "      <td>0.0</td>\n",
              "      <td>0.0</td>\n",
              "      <td>0.000081</td>\n",
              "    </tr>\n",
              "    <tr>\n",
              "      <th>1</th>\n",
              "      <td>C:\\Users\\OPU6FE\\Documents\\KhodroKhodran\\simulator-windows-64\\Data\\IMG\\center_2021_06_29_11_07_08_264.jpg</td>\n",
              "      <td>C:\\Users\\OPU6FE\\Documents\\KhodroKhodran\\simulator-windows-64\\Data\\IMG\\left_2021_06_29_11_07_08_264.jpg</td>\n",
              "      <td>C:\\Users\\OPU6FE\\Documents\\KhodroKhodran\\simulator-windows-64\\Data\\IMG\\right_2021_06_29_11_07_08_264.jpg</td>\n",
              "      <td>0.0</td>\n",
              "      <td>0.0</td>\n",
              "      <td>0.0</td>\n",
              "      <td>0.000078</td>\n",
              "    </tr>\n",
              "    <tr>\n",
              "      <th>2</th>\n",
              "      <td>C:\\Users\\OPU6FE\\Documents\\KhodroKhodran\\simulator-windows-64\\Data\\IMG\\center_2021_06_29_11_07_08_375.jpg</td>\n",
              "      <td>C:\\Users\\OPU6FE\\Documents\\KhodroKhodran\\simulator-windows-64\\Data\\IMG\\left_2021_06_29_11_07_08_375.jpg</td>\n",
              "      <td>C:\\Users\\OPU6FE\\Documents\\KhodroKhodran\\simulator-windows-64\\Data\\IMG\\right_2021_06_29_11_07_08_375.jpg</td>\n",
              "      <td>0.0</td>\n",
              "      <td>0.0</td>\n",
              "      <td>0.0</td>\n",
              "      <td>0.000080</td>\n",
              "    </tr>\n",
              "    <tr>\n",
              "      <th>3</th>\n",
              "      <td>C:\\Users\\OPU6FE\\Documents\\KhodroKhodran\\simulator-windows-64\\Data\\IMG\\center_2021_06_29_11_07_08_489.jpg</td>\n",
              "      <td>C:\\Users\\OPU6FE\\Documents\\KhodroKhodran\\simulator-windows-64\\Data\\IMG\\left_2021_06_29_11_07_08_489.jpg</td>\n",
              "      <td>C:\\Users\\OPU6FE\\Documents\\KhodroKhodran\\simulator-windows-64\\Data\\IMG\\right_2021_06_29_11_07_08_489.jpg</td>\n",
              "      <td>0.0</td>\n",
              "      <td>0.0</td>\n",
              "      <td>0.0</td>\n",
              "      <td>0.000079</td>\n",
              "    </tr>\n",
              "    <tr>\n",
              "      <th>4</th>\n",
              "      <td>C:\\Users\\OPU6FE\\Documents\\KhodroKhodran\\simulator-windows-64\\Data\\IMG\\center_2021_06_29_11_07_08_596.jpg</td>\n",
              "      <td>C:\\Users\\OPU6FE\\Documents\\KhodroKhodran\\simulator-windows-64\\Data\\IMG\\left_2021_06_29_11_07_08_596.jpg</td>\n",
              "      <td>C:\\Users\\OPU6FE\\Documents\\KhodroKhodran\\simulator-windows-64\\Data\\IMG\\right_2021_06_29_11_07_08_596.jpg</td>\n",
              "      <td>0.0</td>\n",
              "      <td>0.0</td>\n",
              "      <td>0.0</td>\n",
              "      <td>0.000079</td>\n",
              "    </tr>\n",
              "  </tbody>\n",
              "</table>\n",
              "</div>"
            ],
            "text/plain": [
              "                                                                                                     center  ...     speed\n",
              "0  C:\\Users\\OPU6FE\\Documents\\KhodroKhodran\\simulator-windows-64\\Data\\IMG\\center_2021_06_29_11_07_08_154.jpg  ...  0.000081\n",
              "1  C:\\Users\\OPU6FE\\Documents\\KhodroKhodran\\simulator-windows-64\\Data\\IMG\\center_2021_06_29_11_07_08_264.jpg  ...  0.000078\n",
              "2  C:\\Users\\OPU6FE\\Documents\\KhodroKhodran\\simulator-windows-64\\Data\\IMG\\center_2021_06_29_11_07_08_375.jpg  ...  0.000080\n",
              "3  C:\\Users\\OPU6FE\\Documents\\KhodroKhodran\\simulator-windows-64\\Data\\IMG\\center_2021_06_29_11_07_08_489.jpg  ...  0.000079\n",
              "4  C:\\Users\\OPU6FE\\Documents\\KhodroKhodran\\simulator-windows-64\\Data\\IMG\\center_2021_06_29_11_07_08_596.jpg  ...  0.000079\n",
              "\n",
              "[5 rows x 7 columns]"
            ]
          },
          "metadata": {
            "tags": []
          },
          "execution_count": 9
        }
      ]
    },
    {
      "cell_type": "code",
      "metadata": {
        "colab": {
          "base_uri": "https://localhost:8080/",
          "height": 204
        },
        "id": "qwM2NyiwNsmh",
        "outputId": "67f48d42-04e7-4c26-ad5d-35c4099f028a"
      },
      "source": [
        "def path_leaf(path):\n",
        "    head, tail = ntpath.split(path)\n",
        "    return tail\n",
        "\n",
        "data['center'] = data['center'].apply(path_leaf)\n",
        "data['left'] = data['left'].apply(path_leaf)\n",
        "data['right'] = data['right'].apply(path_leaf)\n",
        "\n",
        "data.head()"
      ],
      "execution_count": 12,
      "outputs": [
        {
          "output_type": "execute_result",
          "data": {
            "text/html": [
              "<div>\n",
              "<style scoped>\n",
              "    .dataframe tbody tr th:only-of-type {\n",
              "        vertical-align: middle;\n",
              "    }\n",
              "\n",
              "    .dataframe tbody tr th {\n",
              "        vertical-align: top;\n",
              "    }\n",
              "\n",
              "    .dataframe thead th {\n",
              "        text-align: right;\n",
              "    }\n",
              "</style>\n",
              "<table border=\"1\" class=\"dataframe\">\n",
              "  <thead>\n",
              "    <tr style=\"text-align: right;\">\n",
              "      <th></th>\n",
              "      <th>center</th>\n",
              "      <th>left</th>\n",
              "      <th>right</th>\n",
              "      <th>steering</th>\n",
              "      <th>throttle</th>\n",
              "      <th>reverse</th>\n",
              "      <th>speed</th>\n",
              "    </tr>\n",
              "  </thead>\n",
              "  <tbody>\n",
              "    <tr>\n",
              "      <th>0</th>\n",
              "      <td>center_2021_06_29_11_07_08_154.jpg</td>\n",
              "      <td>left_2021_06_29_11_07_08_154.jpg</td>\n",
              "      <td>right_2021_06_29_11_07_08_154.jpg</td>\n",
              "      <td>0.0</td>\n",
              "      <td>0.0</td>\n",
              "      <td>0.0</td>\n",
              "      <td>0.000081</td>\n",
              "    </tr>\n",
              "    <tr>\n",
              "      <th>1</th>\n",
              "      <td>center_2021_06_29_11_07_08_264.jpg</td>\n",
              "      <td>left_2021_06_29_11_07_08_264.jpg</td>\n",
              "      <td>right_2021_06_29_11_07_08_264.jpg</td>\n",
              "      <td>0.0</td>\n",
              "      <td>0.0</td>\n",
              "      <td>0.0</td>\n",
              "      <td>0.000078</td>\n",
              "    </tr>\n",
              "    <tr>\n",
              "      <th>2</th>\n",
              "      <td>center_2021_06_29_11_07_08_375.jpg</td>\n",
              "      <td>left_2021_06_29_11_07_08_375.jpg</td>\n",
              "      <td>right_2021_06_29_11_07_08_375.jpg</td>\n",
              "      <td>0.0</td>\n",
              "      <td>0.0</td>\n",
              "      <td>0.0</td>\n",
              "      <td>0.000080</td>\n",
              "    </tr>\n",
              "    <tr>\n",
              "      <th>3</th>\n",
              "      <td>center_2021_06_29_11_07_08_489.jpg</td>\n",
              "      <td>left_2021_06_29_11_07_08_489.jpg</td>\n",
              "      <td>right_2021_06_29_11_07_08_489.jpg</td>\n",
              "      <td>0.0</td>\n",
              "      <td>0.0</td>\n",
              "      <td>0.0</td>\n",
              "      <td>0.000079</td>\n",
              "    </tr>\n",
              "    <tr>\n",
              "      <th>4</th>\n",
              "      <td>center_2021_06_29_11_07_08_596.jpg</td>\n",
              "      <td>left_2021_06_29_11_07_08_596.jpg</td>\n",
              "      <td>right_2021_06_29_11_07_08_596.jpg</td>\n",
              "      <td>0.0</td>\n",
              "      <td>0.0</td>\n",
              "      <td>0.0</td>\n",
              "      <td>0.000079</td>\n",
              "    </tr>\n",
              "  </tbody>\n",
              "</table>\n",
              "</div>"
            ],
            "text/plain": [
              "                               center  ...     speed\n",
              "0  center_2021_06_29_11_07_08_154.jpg  ...  0.000081\n",
              "1  center_2021_06_29_11_07_08_264.jpg  ...  0.000078\n",
              "2  center_2021_06_29_11_07_08_375.jpg  ...  0.000080\n",
              "3  center_2021_06_29_11_07_08_489.jpg  ...  0.000079\n",
              "4  center_2021_06_29_11_07_08_596.jpg  ...  0.000079\n",
              "\n",
              "[5 rows x 7 columns]"
            ]
          },
          "metadata": {
            "tags": []
          },
          "execution_count": 12
        }
      ]
    },
    {
      "cell_type": "code",
      "metadata": {
        "colab": {
          "base_uri": "https://localhost:8080/",
          "height": 282
        },
        "id": "Dh2WKQgpOSsn",
        "outputId": "462e7bf8-7cf0-4a7a-d642-016368bf47db"
      },
      "source": [
        "num_bins = 25\n",
        "samples_per_bin = 400\n",
        "hist, bins = np.histogram(data['steering'], num_bins)\n",
        "center = (bins[:-1] + bins[1:]) * 0.5\n",
        "plt.bar(center, hist, width=0.05)\n",
        "plt.plot((np.min(data['steering']), np.max(data['steering'])), (samples_per_bin, samples_per_bin))"
      ],
      "execution_count": 16,
      "outputs": [
        {
          "output_type": "execute_result",
          "data": {
            "text/plain": [
              "[<matplotlib.lines.Line2D at 0x7eff35cabf50>]"
            ]
          },
          "metadata": {
            "tags": []
          },
          "execution_count": 16
        },
        {
          "output_type": "display_data",
          "data": {
            "image/png": "[encoded data removed]",
            "text/plain": [
              "<Figure size 432x288 with 1 Axes>"
            ]
          },
          "metadata": {
            "tags": [],
            "needs_background": "light"
          }
        }
      ]
    }
  ]
}