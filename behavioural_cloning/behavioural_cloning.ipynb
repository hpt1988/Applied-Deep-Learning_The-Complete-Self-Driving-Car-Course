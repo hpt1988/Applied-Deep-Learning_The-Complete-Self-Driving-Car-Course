{
  "nbformat": 4,
  "nbformat_minor": 0,
  "metadata": {
    "colab": {
      "name": "behavioural_cloning.ipynb",
      "provenance": []
    },
    "kernelspec": {
      "name": "python3",
      "display_name": "Python 3"
    },
    "language_info": {
      "name": "python"
    }
  },
  "cells": [
    {
      "cell_type": "code",
      "metadata": {
        "colab": {
          "base_uri": "https://localhost:8080/"
        },
        "id": "oXLRpL1ALYZm",
        "outputId": "7b2d46fe-2326-4ab5-b259-c821ee8cbf5c"
      },
      "source": [
        "!git clone https://github.com/hpt1988/Applied-Deep-Learning_The-Complete-Self-Driving-Car-Course"
      ],
      "execution_count": 3,
      "outputs": [
        {
          "output_type": "stream",
          "text": [
            "Cloning into 'Applied-Deep-Learning_The-Complete-Self-Driving-Car-Course'...\n",
            "remote: Enumerating objects: 22222, done.\u001b[K\n",
            "remote: Counting objects: 100% (317/317), done.\u001b[K\n",
            "remote: Compressing objects: 100% (180/180), done.\u001b[K\n",
            "remote: Total 22222 (delta 134), reused 268 (delta 125), pack-reused 21905\u001b[K\n",
            "Receiving objects: 100% (22222/22222), 317.99 MiB | 35.35 MiB/s, done.\n",
            "Resolving deltas: 100% (135/135), done.\n",
            "Checking out files: 100% (21952/21952), done.\n"
          ],
          "name": "stdout"
        }
      ]
    },
    {
      "cell_type": "code",
      "metadata": {
        "colab": {
          "base_uri": "https://localhost:8080/"
        },
        "id": "0yZJSvLlLbvU",
        "outputId": "f742cc55-f6c4-4ef4-bc22-df376eb28e7f"
      },
      "source": [
        "!ls Applied-Deep-Learning_The-Complete-Self-Driving-Car-Course/behavioural_cloning/Data"
      ],
      "execution_count": 4,
      "outputs": [
        {
          "output_type": "stream",
          "text": [
            "driving_log.csv  IMG\n"
          ],
          "name": "stdout"
        }
      ]
    },
    {
      "cell_type": "markdown",
      "metadata": {
        "id": "NRJCEQo3Lt09"
      },
      "source": [
        "# Preprocessing"
      ]
    },
    {
      "cell_type": "code",
      "metadata": {
        "id": "x-gFVoOnLxql"
      },
      "source": [
        "import os\n",
        "import numpy as np\n",
        "import matplotlib.pyplot as plt\n",
        "import keras\n",
        "from keras.models import Sequential\n",
        "from keras.optimizers import Adam\n",
        "from keras.layers import Conv2D, MaxPooling2D, Dropout, Flatten, Dense\n",
        "from sklearn.utils import shuffle\n",
        "from sklearn.model_selection import train_test_split\n",
        "import cv2\n",
        "import pandas as pd\n",
        "import ntpath\n",
        "import random"
      ],
      "execution_count": 5,
      "outputs": []
    },
    {
      "cell_type": "code",
      "metadata": {
        "colab": {
          "base_uri": "https://localhost:8080/",
          "height": 323
        },
        "id": "4fd8KNvRMJX0",
        "outputId": "2340e66e-4323-4103-c211-2008b2a22479"
      },
      "source": [
        "datadir = 'Applied-Deep-Learning_The-Complete-Self-Driving-Car-Course/behavioural_cloning/Data'\n",
        "columns = ['center', 'left', 'right', 'steering', 'throttle', 'reverse', 'speed']\n",
        "data = pd.read_csv(os.path.join(datadir, 'driving_log.csv'), names = columns)\n",
        "pd.set_option('display.max_colwidth', -1)\n",
        "data.head()"
      ],
      "execution_count": 6,
      "outputs": [
        {
          "output_type": "stream",
          "text": [
            "/usr/local/lib/python3.7/dist-packages/ipykernel_launcher.py:4: FutureWarning: Passing a negative integer is deprecated in version 1.0 and will not be supported in future version. Instead, use None to not limit the column width.\n",
            "  after removing the cwd from sys.path.\n"
          ],
          "name": "stderr"
        },
        {
          "output_type": "execute_result",
          "data": {
            "text/html": [
              "<div>\n",
              "<style scoped>\n",
              "    .dataframe tbody tr th:only-of-type {\n",
              "        vertical-align: middle;\n",
              "    }\n",
              "\n",
              "    .dataframe tbody tr th {\n",
              "        vertical-align: top;\n",
              "    }\n",
              "\n",
              "    .dataframe thead th {\n",
              "        text-align: right;\n",
              "    }\n",
              "</style>\n",
              "<table border=\"1\" class=\"dataframe\">\n",
              "  <thead>\n",
              "    <tr style=\"text-align: right;\">\n",
              "      <th></th>\n",
              "      <th>center</th>\n",
              "      <th>left</th>\n",
              "      <th>right</th>\n",
              "      <th>steering</th>\n",
              "      <th>throttle</th>\n",
              "      <th>reverse</th>\n",
              "      <th>speed</th>\n",
              "    </tr>\n",
              "  </thead>\n",
              "  <tbody>\n",
              "    <tr>\n",
              "      <th>0</th>\n",
              "      <td>C:\\Users\\OPU6FE\\Documents\\KhodroKhodran\\simulator-windows-64\\Data\\IMG\\center_2021_06_29_11_07_08_154.jpg</td>\n",
              "      <td>C:\\Users\\OPU6FE\\Documents\\KhodroKhodran\\simulator-windows-64\\Data\\IMG\\left_2021_06_29_11_07_08_154.jpg</td>\n",
              "      <td>C:\\Users\\OPU6FE\\Documents\\KhodroKhodran\\simulator-windows-64\\Data\\IMG\\right_2021_06_29_11_07_08_154.jpg</td>\n",
              "      <td>0.0</td>\n",
              "      <td>0.0</td>\n",
              "      <td>0.0</td>\n",
              "      <td>0.000081</td>\n",
              "    </tr>\n",
              "    <tr>\n",
              "      <th>1</th>\n",
              "      <td>C:\\Users\\OPU6FE\\Documents\\KhodroKhodran\\simulator-windows-64\\Data\\IMG\\center_2021_06_29_11_07_08_264.jpg</td>\n",
              "      <td>C:\\Users\\OPU6FE\\Documents\\KhodroKhodran\\simulator-windows-64\\Data\\IMG\\left_2021_06_29_11_07_08_264.jpg</td>\n",
              "      <td>C:\\Users\\OPU6FE\\Documents\\KhodroKhodran\\simulator-windows-64\\Data\\IMG\\right_2021_06_29_11_07_08_264.jpg</td>\n",
              "      <td>0.0</td>\n",
              "      <td>0.0</td>\n",
              "      <td>0.0</td>\n",
              "      <td>0.000078</td>\n",
              "    </tr>\n",
              "    <tr>\n",
              "      <th>2</th>\n",
              "      <td>C:\\Users\\OPU6FE\\Documents\\KhodroKhodran\\simulator-windows-64\\Data\\IMG\\center_2021_06_29_11_07_08_375.jpg</td>\n",
              "      <td>C:\\Users\\OPU6FE\\Documents\\KhodroKhodran\\simulator-windows-64\\Data\\IMG\\left_2021_06_29_11_07_08_375.jpg</td>\n",
              "      <td>C:\\Users\\OPU6FE\\Documents\\KhodroKhodran\\simulator-windows-64\\Data\\IMG\\right_2021_06_29_11_07_08_375.jpg</td>\n",
              "      <td>0.0</td>\n",
              "      <td>0.0</td>\n",
              "      <td>0.0</td>\n",
              "      <td>0.000080</td>\n",
              "    </tr>\n",
              "    <tr>\n",
              "      <th>3</th>\n",
              "      <td>C:\\Users\\OPU6FE\\Documents\\KhodroKhodran\\simulator-windows-64\\Data\\IMG\\center_2021_06_29_11_07_08_489.jpg</td>\n",
              "      <td>C:\\Users\\OPU6FE\\Documents\\KhodroKhodran\\simulator-windows-64\\Data\\IMG\\left_2021_06_29_11_07_08_489.jpg</td>\n",
              "      <td>C:\\Users\\OPU6FE\\Documents\\KhodroKhodran\\simulator-windows-64\\Data\\IMG\\right_2021_06_29_11_07_08_489.jpg</td>\n",
              "      <td>0.0</td>\n",
              "      <td>0.0</td>\n",
              "      <td>0.0</td>\n",
              "      <td>0.000079</td>\n",
              "    </tr>\n",
              "    <tr>\n",
              "      <th>4</th>\n",
              "      <td>C:\\Users\\OPU6FE\\Documents\\KhodroKhodran\\simulator-windows-64\\Data\\IMG\\center_2021_06_29_11_07_08_596.jpg</td>\n",
              "      <td>C:\\Users\\OPU6FE\\Documents\\KhodroKhodran\\simulator-windows-64\\Data\\IMG\\left_2021_06_29_11_07_08_596.jpg</td>\n",
              "      <td>C:\\Users\\OPU6FE\\Documents\\KhodroKhodran\\simulator-windows-64\\Data\\IMG\\right_2021_06_29_11_07_08_596.jpg</td>\n",
              "      <td>0.0</td>\n",
              "      <td>0.0</td>\n",
              "      <td>0.0</td>\n",
              "      <td>0.000079</td>\n",
              "    </tr>\n",
              "  </tbody>\n",
              "</table>\n",
              "</div>"
            ],
            "text/plain": [
              "                                                                                                     center  ...     speed\n",
              "0  C:\\Users\\OPU6FE\\Documents\\KhodroKhodran\\simulator-windows-64\\Data\\IMG\\center_2021_06_29_11_07_08_154.jpg  ...  0.000081\n",
              "1  C:\\Users\\OPU6FE\\Documents\\KhodroKhodran\\simulator-windows-64\\Data\\IMG\\center_2021_06_29_11_07_08_264.jpg  ...  0.000078\n",
              "2  C:\\Users\\OPU6FE\\Documents\\KhodroKhodran\\simulator-windows-64\\Data\\IMG\\center_2021_06_29_11_07_08_375.jpg  ...  0.000080\n",
              "3  C:\\Users\\OPU6FE\\Documents\\KhodroKhodran\\simulator-windows-64\\Data\\IMG\\center_2021_06_29_11_07_08_489.jpg  ...  0.000079\n",
              "4  C:\\Users\\OPU6FE\\Documents\\KhodroKhodran\\simulator-windows-64\\Data\\IMG\\center_2021_06_29_11_07_08_596.jpg  ...  0.000079\n",
              "\n",
              "[5 rows x 7 columns]"
            ]
          },
          "metadata": {
            "tags": []
          },
          "execution_count": 6
        }
      ]
    },
    {
      "cell_type": "code",
      "metadata": {
        "colab": {
          "base_uri": "https://localhost:8080/",
          "height": 204
        },
        "id": "qwM2NyiwNsmh",
        "outputId": "b6fafa52-3ef4-4b69-9e89-07291f19d880"
      },
      "source": [
        "def path_leaf(path):\n",
        "    head, tail = ntpath.split(path)\n",
        "    return tail\n",
        "\n",
        "data['center'] = data['center'].apply(path_leaf)\n",
        "data['left'] = data['left'].apply(path_leaf)\n",
        "data['right'] = data['right'].apply(path_leaf)\n",
        "\n",
        "data.head()"
      ],
      "execution_count": 7,
      "outputs": [
        {
          "output_type": "execute_result",
          "data": {
            "text/html": [
              "<div>\n",
              "<style scoped>\n",
              "    .dataframe tbody tr th:only-of-type {\n",
              "        vertical-align: middle;\n",
              "    }\n",
              "\n",
              "    .dataframe tbody tr th {\n",
              "        vertical-align: top;\n",
              "    }\n",
              "\n",
              "    .dataframe thead th {\n",
              "        text-align: right;\n",
              "    }\n",
              "</style>\n",
              "<table border=\"1\" class=\"dataframe\">\n",
              "  <thead>\n",
              "    <tr style=\"text-align: right;\">\n",
              "      <th></th>\n",
              "      <th>center</th>\n",
              "      <th>left</th>\n",
              "      <th>right</th>\n",
              "      <th>steering</th>\n",
              "      <th>throttle</th>\n",
              "      <th>reverse</th>\n",
              "      <th>speed</th>\n",
              "    </tr>\n",
              "  </thead>\n",
              "  <tbody>\n",
              "    <tr>\n",
              "      <th>0</th>\n",
              "      <td>center_2021_06_29_11_07_08_154.jpg</td>\n",
              "      <td>left_2021_06_29_11_07_08_154.jpg</td>\n",
              "      <td>right_2021_06_29_11_07_08_154.jpg</td>\n",
              "      <td>0.0</td>\n",
              "      <td>0.0</td>\n",
              "      <td>0.0</td>\n",
              "      <td>0.000081</td>\n",
              "    </tr>\n",
              "    <tr>\n",
              "      <th>1</th>\n",
              "      <td>center_2021_06_29_11_07_08_264.jpg</td>\n",
              "      <td>left_2021_06_29_11_07_08_264.jpg</td>\n",
              "      <td>right_2021_06_29_11_07_08_264.jpg</td>\n",
              "      <td>0.0</td>\n",
              "      <td>0.0</td>\n",
              "      <td>0.0</td>\n",
              "      <td>0.000078</td>\n",
              "    </tr>\n",
              "    <tr>\n",
              "      <th>2</th>\n",
              "      <td>center_2021_06_29_11_07_08_375.jpg</td>\n",
              "      <td>left_2021_06_29_11_07_08_375.jpg</td>\n",
              "      <td>right_2021_06_29_11_07_08_375.jpg</td>\n",
              "      <td>0.0</td>\n",
              "      <td>0.0</td>\n",
              "      <td>0.0</td>\n",
              "      <td>0.000080</td>\n",
              "    </tr>\n",
              "    <tr>\n",
              "      <th>3</th>\n",
              "      <td>center_2021_06_29_11_07_08_489.jpg</td>\n",
              "      <td>left_2021_06_29_11_07_08_489.jpg</td>\n",
              "      <td>right_2021_06_29_11_07_08_489.jpg</td>\n",
              "      <td>0.0</td>\n",
              "      <td>0.0</td>\n",
              "      <td>0.0</td>\n",
              "      <td>0.000079</td>\n",
              "    </tr>\n",
              "    <tr>\n",
              "      <th>4</th>\n",
              "      <td>center_2021_06_29_11_07_08_596.jpg</td>\n",
              "      <td>left_2021_06_29_11_07_08_596.jpg</td>\n",
              "      <td>right_2021_06_29_11_07_08_596.jpg</td>\n",
              "      <td>0.0</td>\n",
              "      <td>0.0</td>\n",
              "      <td>0.0</td>\n",
              "      <td>0.000079</td>\n",
              "    </tr>\n",
              "  </tbody>\n",
              "</table>\n",
              "</div>"
            ],
            "text/plain": [
              "                               center  ...     speed\n",
              "0  center_2021_06_29_11_07_08_154.jpg  ...  0.000081\n",
              "1  center_2021_06_29_11_07_08_264.jpg  ...  0.000078\n",
              "2  center_2021_06_29_11_07_08_375.jpg  ...  0.000080\n",
              "3  center_2021_06_29_11_07_08_489.jpg  ...  0.000079\n",
              "4  center_2021_06_29_11_07_08_596.jpg  ...  0.000079\n",
              "\n",
              "[5 rows x 7 columns]"
            ]
          },
          "metadata": {
            "tags": []
          },
          "execution_count": 7
        }
      ]
    },
    {
      "cell_type": "code",
      "metadata": {
        "colab": {
          "base_uri": "https://localhost:8080/",
          "height": 282
        },
        "id": "Dh2WKQgpOSsn",
        "outputId": "51cd2be4-abd9-451f-b78e-b1ac090c4252"
      },
      "source": [
        "num_bins = 25\n",
        "samples_per_bin = 400\n",
        "hist, bins = np.histogram(data['steering'], num_bins)\n",
        "center = (bins[:-1] + bins[1:]) * 0.5\n",
        "plt.bar(center, hist, width=0.05)\n",
        "plt.plot((np.min(data['steering']), np.max(data['steering'])), (samples_per_bin, samples_per_bin))"
      ],
      "execution_count": 8,
      "outputs": [
        {
          "output_type": "execute_result",
          "data": {
            "text/plain": [
              "[<matplotlib.lines.Line2D at 0x7fdd698e21d0>]"
            ]
          },
          "metadata": {
            "tags": []
          },
          "execution_count": 8
        },
        {
          "output_type": "display_data",
          "data": {
            "image/png": "[encoded data removed]",
            "text/plain": [
              "<Figure size 432x288 with 1 Axes>"
            ]
          },
          "metadata": {
            "tags": [],
            "needs_background": "light"
          }
        }
      ]
    },
    {
      "cell_type": "code",
      "metadata": {
        "colab": {
          "base_uri": "https://localhost:8080/",
          "height": 333
        },
        "id": "g-MY9ZWVQVC2",
        "outputId": "802a0fb0-5e40-4c72-9e4d-7f120a5846b5"
      },
      "source": [
        "print('total data: ', len(data))\n",
        "remove_list = []\n",
        "\n",
        "for j in range(num_bins):\n",
        "    list_ = []\n",
        "    for i in range(len(data['steering'])):\n",
        "        if data['steering'][i] >= bins[j] and data['steering'][i] <= bins[j+1]:\n",
        "            list_.append(i)\n",
        "    list_ = shuffle(list_)\n",
        "    list_ = list_[samples_per_bin:]\n",
        "    remove_list.extend(list_)\n",
        "\n",
        "print('removed: ', len(remove_list))\n",
        "data.drop(data.index[remove_list], inplace=True)\n",
        "print('remaining: ', len(data))\n",
        "\n",
        "hist, _ = np.histogram(data['steering'], (num_bins))\n",
        "plt.bar(center, hist, width=0.05)\n",
        "plt.plot((np.min(data['steering']), np.max(data['steering'])), (samples_per_bin, samples_per_bin))"
      ],
      "execution_count": 9,
      "outputs": [
        {
          "output_type": "stream",
          "text": [
            "total data:  7300\n",
            "removed:  4645\n",
            "remaining:  2655\n"
          ],
          "name": "stdout"
        },
        {
          "output_type": "execute_result",
          "data": {
            "text/plain": [
              "[<matplotlib.lines.Line2D at 0x7fdd698a3390>]"
            ]
          },
          "metadata": {
            "tags": []
          },
          "execution_count": 9
        },
        {
          "output_type": "display_data",
          "data": {
            "image/png": "[encoded data removed]",
            "text/plain": [
              "<Figure size 432x288 with 1 Axes>"
            ]
          },
          "metadata": {
            "tags": [],
            "needs_background": "light"
          }
        }
      ]
    },
    {
      "cell_type": "code",
      "metadata": {
        "id": "T8XDUsptmRa-",
        "outputId": "d0682597-033f-4963-fb0b-798433753299",
        "colab": {
          "base_uri": "https://localhost:8080/"
        }
      },
      "source": [
        "# Loading images as training data and corresponding steering angles as the label\n",
        "def load_img_steering(datadir, df):\n",
        "    image_path = []\n",
        "    steering = []\n",
        "    for i in range(len(data)):\n",
        "        # \"iloc\": allows to perform a selection on a row of data from data frame\n",
        "        # based on thespecified index, which will simply be the current index\n",
        "        # that's being iterated through. Therefore, \"indexed_data\" will contain\n",
        "        # specific row of data at each iteration.\n",
        "        indexed_data = data.iloc[i]\n",
        "        center, left, right = indexed_data[0], indexed_data[1], indexed_data[2]\n",
        "        \n",
        "        # \"strip()\" eliminates any spaces that may be present in the string\n",
        "        # we only consider ceneter images for now\n",
        "        image_path.append(os.path.join(datadir, center.strip()))\n",
        "\n",
        "        steering.append(float(indexed_data[3]))\n",
        "\n",
        "    image_paths = np.asarray(image_path)  # Convert list to array\n",
        "    steerings = np.asarray(steering)  # Convert list to array\n",
        "    return image_paths, steerings\n",
        "\n",
        "image_paths, steerings = load_img_steering(datadir + '/IMG', data)\n",
        "\n",
        "print(data.iloc[1])  # Illustration for \"iloc\""
      ],
      "execution_count": 14,
      "outputs": [
        {
          "output_type": "stream",
          "text": [
            "center      center_2021_06_29_11_07_09_131.jpg\n",
            "left        left_2021_06_29_11_07_09_131.jpg  \n",
            "right       right_2021_06_29_11_07_09_131.jpg \n",
            "steering   -0.190757                          \n",
            "throttle    0                                 \n",
            "reverse     0                                 \n",
            "speed       8.5504e-05                        \n",
            "Name: 9, dtype: object\n"
          ],
          "name": "stdout"
        }
      ]
    },
    {
      "cell_type": "code",
      "metadata": {
        "id": "Zc43xpBvsdhG",
        "outputId": "71119958-649f-4011-aaf9-7896eb484d36",
        "colab": {
          "base_uri": "https://localhost:8080/"
        }
      },
      "source": [
        "# Splitting the arrays to random training and validation sets\n",
        "X_train, X_valid, y_train, y_valid = train_test_split(image_paths, steerings, test_size=0.2, random_state=6)\n",
        "print(\"Training Samples: {}\\nValid Samples: {}\".format(len(X_train), len(X_valid)))"
      ],
      "execution_count": 15,
      "outputs": [
        {
          "output_type": "stream",
          "text": [
            "Training Samples: 2124\n",
            "Valid Samples: 531\n"
          ],
          "name": "stdout"
        }
      ]
    },
    {
      "cell_type": "code",
      "metadata": {
        "id": "VMAC3j9qtytj",
        "outputId": "d4364f1d-0bc5-4c7b-e8cd-c013572779b4",
        "colab": {
          "base_uri": "https://localhost:8080/",
          "height": 298
        }
      },
      "source": [
        "# To make sure both dataset (training and validation) include a uniform\n",
        "# distribution of steering angles, such that both left and right steering angles\n",
        "# are balanced, and model is a little bit more biased towards predicting 0 angle\n",
        "fig, axes = plt.subplots(1, 2, figsize=(12, 4))  # 1 row and 2 columns\n",
        "axes[0].hist(y_train, bins=num_bins, width=0.05, color='blue')\n",
        "axes[0].set_title('Training set')\n",
        "axes[1].hist(y_valid, bins=num_bins, width=0.05, color='red')\n",
        "axes[1].set_title('Validation set')"
      ],
      "execution_count": 18,
      "outputs": [
        {
          "output_type": "execute_result",
          "data": {
            "text/plain": [
              "Text(0.5, 1.0, 'Validation set')"
            ]
          },
          "metadata": {
            "tags": []
          },
          "execution_count": 18
        },
        {
          "output_type": "display_data",
          "data": {
            "image/png": "[encoded data removed]",
            "text/plain": [
              "<Figure size 864x288 with 2 Axes>"
            ]
          },
          "metadata": {
            "tags": [],
            "needs_background": "light"
          }
        }
      ]
    }
  ]
}