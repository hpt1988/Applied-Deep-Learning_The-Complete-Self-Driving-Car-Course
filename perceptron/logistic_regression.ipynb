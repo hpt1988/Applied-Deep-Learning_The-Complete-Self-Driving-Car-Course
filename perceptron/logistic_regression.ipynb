{
 "cells": [
  {
   "cell_type": "code",
   "execution_count": 3,
   "metadata": {},
   "outputs": [],
   "source": [
    "import numpy as np\n",
    "import matplotlib.pyplot as plt"
   ]
  },
  {
   "cell_type": "code",
   "execution_count": 4,
   "metadata": {},
   "outputs": [],
   "source": [
    "def draw(x1, x2):\n",
    "    ln = plt.plot(x1, x2)\n",
    "    \n",
    "def sigmoid(score):\n",
    "    return 1 / (1 + np.exp(score))\n",
    "\n",
    "def calculate_error(line_parameters, points, y):\n",
    "    # The probability of each point being in the line's positive region, is the sigmoid of the linear combination of our points.\n",
    "    # Linear combination can be taken by matrix multiplication.\n",
    "    # To make the matrix multiplication between the all_points and line_parameters possible, the line_parameters will be transposed.\n",
    "    linear_combination = points * line_parameters  # linear_combination is the score for each point (distance to the line)\n",
    "\n",
    "    # To obtain the probability, we need to calculate the sigmoid of linear_combination\n",
    "    p = sigmoid(linear_combination)  # Probability of each point being in the positive region. Positive region corresponds to probability > 0.5 and negative regions to < 0.5\n",
    "    \n",
    "    m = points.shape[0]  # Number of points\n",
    "    \n",
    "    cross_entropy = -(1/m) * (np.log(p).T * y + np.log(1-p).T*(1-y))  # Cross Entropy\n",
    "    return cross_entropy"
   ]
  },
  {
   "cell_type": "code",
   "execution_count": 11,
   "metadata": {},
   "outputs": [],
   "source": [
    "n_pts = 100  # Number of points\n",
    "np.random.seed(0)  # Make sure that whenever we run our code, we get repeatable results. To do that, we must seed our random generator\n",
    "bias = np.ones(n_pts)  # Bias value of the linear model\n",
    "# np.random.normal(a, b, n_pts) returns an array of n_pts random noramlly distributed values with the center of distribution of \"a\" and standard deviation of \"b\"\n",
    "top_region = np.array([np.random.normal(10, 2, n_pts), np.random.normal(12, 2, n_pts), bias]).T  # Transpose to have both horizontal and vertical values in the same row\n",
    "bottom_region = np.array([np.random.normal(5, 2, n_pts), np.random.normal(6, 2, n_pts), bias]).T\n",
    "all_points = np.vstack((top_region, bottom_region))  # Stack the top_region array on top of bottom+region array\n",
    "\n",
    "# A random line as our model\n",
    "w1 = -0.2\n",
    "w2 = -0.35\n",
    "b = 3.5  # Bias\n",
    "line_parameters = np.matrix([w1, w2, b]).T  # Transposed to make matrix multiplication with all_points possible\n",
    "# Coordinates of the line. From the most left to the most right point\n",
    "# The most left point in the bottom: bottom_region[:, 0].min()\n",
    "# The most right point in the top: top_region[:, 0].max()\n",
    "x1 = np.array([bottom_region[:, 0].min(), top_region[:, 0].max()])\n",
    "x2 = -b / w2 + x1 * (-w1 / w2)  # w1x1 + w2x2 + b = 0 ==> x2 = -b / w2 + x1 * (-w1 / w2)\n",
    "\n",
    "# We set the value of 0 for the top region (the first half of the all_points as the top_region array was in the top of the stack) and 1 for the botoom region\n",
    "y = np.array([np.zeros(n_pts), np.ones(n_pts)]).reshape(n_pts * 2, 1)  # Reshaped to be compatible for matrix multiplication"
   ]
  },
  {
   "cell_type": "code",
   "execution_count": 12,
   "metadata": {},
   "outputs": [
    {
     "data": {
      "image/png": "[encoded data removed]",
      "text/plain": [
       "<Figure size 288x288 with 1 Axes>"
      ]
     },
     "metadata": {
      "needs_background": "light"
     },
     "output_type": "display_data"
    }
   ],
   "source": [
    "_, ax = plt.subplots(figsize=(4, 4))  # plt.subplots() Allows us to draw mutliple plots in the same figure and returns a tuple which we have unpacked it here to _ and ax\n",
    "ax.scatter(top_region[:, 0], top_region[:, 1], color='r')\n",
    "ax.scatter(bottom_region[:, 0], bottom_region[:, 1], color='b')\n",
    "draw(x1, x2)\n",
    "plt.show()"
   ]
  },
  {
   "cell_type": "code",
   "execution_count": 13,
   "metadata": {},
   "outputs": [
    {
     "name": "stdout",
     "output_type": "stream",
     "text": [
      "[[1.97278605]]\n"
     ]
    }
   ],
   "source": [
    "print((calculate_error(line_parameters, all_points, y)))"
   ]
  }
 ],
 "metadata": {
  "kernelspec": {
   "display_name": "Python 3",
   "language": "python",
   "name": "python3"
  },
  "language_info": {
   "codemirror_mode": {
    "name": "ipython",
    "version": 3
   },
   "file_extension": ".py",
   "mimetype": "text/x-python",
   "name": "python",
   "nbconvert_exporter": "python",
   "pygments_lexer": "ipython3",
   "version": "3.8.3"
  }
 },
 "nbformat": 4,
 "nbformat_minor": 4
}
